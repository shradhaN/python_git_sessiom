{
 "cells": [
  {
   "cell_type": "code",
   "execution_count": null,
   "metadata": {
    "collapsed": false
   },
   "outputs": [
    {
     "name": "stdout",
     "output_type": "stream",
     "text": [
      "enter your choice:67\n",
      "your number is greater\n",
      "enter your choice:43\n",
      "your number is greater\n"
     ]
    }
   ],
   "source": [
    "from random import randint\n",
    "const=randint(0,99)\n",
    "i = 0\n",
    "\n",
    "while i<5 :\n",
    "    num = input(\"enter your choice:\")\n",
    "    if int(num) > const:\n",
    "        print(\"your number is greater\")\n",
    "        \n",
    "    elif int(num) == const:\n",
    "        print(\"congrats you guessed correct\")\n",
    "        break\n",
    "    else:\n",
    "        print(\"your number is less than required\")\n",
    "    i +=1\n",
    "print(\"the correct number wasssss\")\n",
    "print(const)"
   ]
  }
 ],
 "metadata": {
  "kernelspec": {
   "display_name": "Python 3",
   "language": "python",
   "name": "python3"
  },
  "language_info": {
   "codemirror_mode": {
    "name": "ipython",
    "version": 3
   },
   "file_extension": ".py",
   "mimetype": "text/x-python",
   "name": "python",
   "nbconvert_exporter": "python",
   "pygments_lexer": "ipython3",
   "version": "3.5.1"
  }
 },
 "nbformat": 4,
 "nbformat_minor": 0
}
